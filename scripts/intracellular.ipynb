{
 "cells": [
  {
   "cell_type": "code",
   "execution_count": null,
   "id": "aaada7bb-4cf7-4e7d-bcdb-56be953db9af",
   "metadata": {},
   "outputs": [],
   "source": [
    "from pathlib import Path\n",
    "import numpy as np\n",
    "import quickspikes as qs\n",
    "import quantities as pq\n",
    "import quickspikes.tools as qst\n",
    "import quickspikes.intracellular as qsi\n",
    "import matplotlib.pyplot as plt\n",
    "from core import first_index\n",
    "from typing import Iterable, Union, Tuple, Optional, Iterator\n",
    "MOhm = pq.UnitQuantity(\"megaohm\", pq.ohm * 1e6, symbol=\"MΩ\")\n",
    "pFarad = pq.UnitQuantity(\"picofarad\", pq.farad * 1e-12, symbol=\"pF\")"
   ]
  },
  {
   "cell_type": "code",
   "execution_count": null,
   "id": "24e5b48b-de52-4052-a88b-02fe5ca794b0",
   "metadata": {},
   "outputs": [],
   "source": [
    "from neo import AxonIO\n",
    "import nbank as nb\n",
    "#cell = \"96d3fb36-424b-4e57-b371-15f091587159\"\n",
    "#cell = \"f7be8d05-f5c3-4fca-98ff-371a324a99fa\"\n",
    "cell = \"4dc9441c-7f8f-4bd9-abd1-e7b42a91756d\"\n",
    "epoch = 1\n",
    "#cell = \"935feb47-e71e-4226-816b-f7f5b6d31325\"\n",
    "#cell = \"30dc843d-53ae-49b3-ae65-6b12971e2b46\"\n",
    "cell = \"42862924-3056-44fd-973e-95abfd42f81a\"\n",
    "epoch = 4\n",
    "sweep = 1\n",
    "path = nb.get(cell, local_only=True)\n",
    "files = sorted(Path(path).glob(\"*.abf\"))\n",
    "ifp = AxonIO(files[epoch - 1])\n",
    "block = ifp.read_block(lazy=True)\n",
    "segment = block.segments[sweep]"
   ]
  },
  {
   "cell_type": "code",
   "execution_count": null,
   "id": "08fbfab7-b554-4269-afe8-4dd42a7fe8da",
   "metadata": {},
   "outputs": [],
   "source": [
    "segment.analogsignals[0].sampling_rate"
   ]
  },
  {
   "cell_type": "code",
   "execution_count": null,
   "id": "4c661e89-826a-4b29-8cca-310e8f37bd8b",
   "metadata": {},
   "outputs": [],
   "source": [
    "fig, axes = plt.subplots(3)\n",
    "V = segment.analogsignals[0].load().squeeze().magnitude\n",
    "I = segment.analogsignals[1].load().squeeze().magnitude\n",
    "axes[0].plot(V)\n",
    "axes[1].plot(I)\n",
    "detector = qsi.SpikeFinder(50, 350, 5000)\n",
    "res = detector.calculate_threshold(V, thresh_min=-60)\n",
    "print(res)\n",
    "if res is not None:\n",
    "    for time, spike in detector.extract_spikes(V, 10):\n",
    "        axes[0].plot(time, V[time], \"ro\")\n",
    "        axes[2].plot(spike)"
   ]
  },
  {
   "cell_type": "code",
   "execution_count": null,
   "id": "41692aa8-f1b9-461c-b68d-7fb36873a507",
   "metadata": {},
   "outputs": [],
   "source": [
    "protocols = ifp.read_protocol()\n",
    "Ic = protocols[sweep].analogsignals[1]"
   ]
  },
  {
   "cell_type": "code",
   "execution_count": null,
   "id": "39d907fe-7c21-4d24-8a1f-a019ae9c2137",
   "metadata": {},
   "outputs": [],
   "source": [
    "step_len, step_start, step_val = qst.runlength_encode(Ic.squeeze().astype(\"i\"))\n",
    "base_step = first_index(lambda x: x == 0, step_val)\n",
    "depol_step = first_index(lambda x: x > 0, step_val) or 0\n",
    "hypol_step1 = first_index(lambda x: x < 0, step_val)\n",
    "hypol_step2 = hypol_step1 + 1\n",
    "last_step= len(step_val) - 1\n",
    "(base_step, depol_step, hypol_step1, hypol_step2, last_step)"
   ]
  },
  {
   "cell_type": "code",
   "execution_count": null,
   "id": "c88889f9-e8f2-4aed-941c-77a26e2c66e1",
   "metadata": {},
   "outputs": [],
   "source": [
    "start = step_start[4]\n",
    "end = start + step_len[4]\n",
    "VV = V[start:end]\n",
    "plt.plot(VV)"
   ]
  },
  {
   "cell_type": "code",
   "execution_count": null,
   "id": "78344283-8a18-4a52-bac3-a275c69c31f8",
   "metadata": {},
   "outputs": [],
   "source": [
    "hypol_I = []\n",
    "hypol_V = []\n",
    "fig, axes = plt.subplots(2, sharex=True)\n",
    "for segment in block.segments:\n",
    "    V = segment.analogsignals[0].load()\n",
    "    I = segment.analogsignals[1].load()\n",
    "    start = step_start[3]\n",
    "    end = start + step_len[3]\n",
    "    VV = V[start:end].squeeze()\n",
    "    II = I[start:end].squeeze()\n",
    "    axes[0].plot(VV)\n",
    "    axes[1].plot(II)\n",
    "    hypol_I.append(II)\n",
    "    hypol_V.append(VV)\n",
    "    "
   ]
  },
  {
   "cell_type": "code",
   "execution_count": null,
   "id": "9cf28339-ff5b-495b-b132-91fff4b5726a",
   "metadata": {},
   "outputs": [],
   "source": [
    "from chebyfit import fit_exponentials\n",
    "exponential_decay_thresh = 0.99\n",
    "hI = np.mean(hypol_I, axis=0)\n",
    "VV = np.mean(hypol_V, axis=0)\n",
    "sampling_period = V.sampling_period.rescale(\"ms\").magnitude\n",
    "t = np.arange(0, 500, sampling_period)\n",
    "plt.plot(t, VV)\n",
    "i_min = VV.argmin()\n",
    "thresh = VV[0] - (VV[0] - VV[i_min]) * exponential_decay_thresh\n",
    "i_thresh = first_index(lambda x: x < thresh, VV[:i_min])\n",
    "params, est = fit_exponentials(VV[:i_thresh], 1, deltat=V.sampling_period.rescale(\"ms\"), axis=0)\n",
    "#params, est = fit_exponentials(VV, 1, deltat=V.sampling_period.rescale(\"ms\"), axis=0)\n",
    "plt.plot(t[:i_thresh], est)\n",
    "params[0][\"amplitude\"]"
   ]
  },
  {
   "cell_type": "code",
   "execution_count": null,
   "id": "1e8400dc-59aa-41f3-80af-511180a048b3",
   "metadata": {},
   "outputs": [],
   "source": [
    "pos = (params[\"amplitude\"] > 0) & (params[\"rate\"] > 0)\n",
    "idx = params[\"rate\"][pos].argmin()\n",
    "tau = params[\"rate\"][pos][idx] * pq.ms\n",
    "dV = params[\"amplitude\"][pos][idx] * pq.mV\n",
    "dI = (hI[0] - hI[-7500:].mean()) * pq.pA\n",
    "Rm = (dV / dI).rescale(MOhm)\n",
    "Cm = (tau / Rm).rescale(pFarad)\n",
    "idx = int(min(25, tau / 2) / sampling_period)\n",
    "mse = np.sqrt(np.mean((VV[:idx] - est[:idx])**2)) / dV\n",
    "idx, mse, tau, dV, dI, Rm, Cm"
   ]
  },
  {
   "cell_type": "code",
   "execution_count": null,
   "id": "9fbe6755-dc4b-4d1e-9776-59fc75146e8c",
   "metadata": {},
   "outputs": [],
   "source": [
    "hypol_I = []\n",
    "hypol_V = []\n",
    "fig, axes = plt.subplots(2, sharex=True)\n",
    "for segment in block.segments:\n",
    "    V = segment.analogsignals[0].load()\n",
    "    I = segment.analogsignals[1].load()\n",
    "    start = step_start[5]\n",
    "    end = start + step_len[5]\n",
    "    VV = V[start:end].squeeze()\n",
    "    II = I[start:end].squeeze()\n",
    "    axes[0].plot(VV)\n",
    "    axes[1].plot(II)\n",
    "    hypol_I.append(II)\n",
    "    hypol_V.append(VV)\n",
    "    "
   ]
  },
  {
   "cell_type": "code",
   "execution_count": null,
   "id": "1efded8a-e064-4197-9991-270555b9e2d9",
   "metadata": {},
   "outputs": [],
   "source": [
    "from chebyfit import fit_exponentials\n",
    "exponential_decay_thresh = 0.99\n",
    "hI = np.mean(hypol_I, axis=0)\n",
    "VV = np.mean(hypol_V, axis=0)\n",
    "sampling_period = V.sampling_period.rescale(\"ms\").magnitude\n",
    "t = np.arange(0, 500, sampling_period)\n",
    "plt.plot(t, VV)\n",
    "i_max = VV.argmax()\n",
    "thresh = VV[0] + (VV[i_max] - VV[0]) * exponential_decay_thresh\n",
    "i_thresh = first_index(lambda x: x > thresh, VV[:i_max])\n",
    "params, est = fit_exponentials(VV[:i_thresh], 1, deltat=V.sampling_period.rescale(\"ms\"), axis=0)\n",
    "#params, est = fit_exponentials(VV, 1, deltat=V.sampling_period.rescale(\"ms\"), axis=0)\n",
    "plt.plot(t[:i_thresh], est)\n",
    "params"
   ]
  },
  {
   "cell_type": "code",
   "execution_count": null,
   "id": "6d7d0f0b-facb-4cfd-b9a5-74cc9077eb11",
   "metadata": {},
   "outputs": [],
   "source": [
    "a_spike = np.array([-1290,  -483,  -136,  -148,  -186,   637,   328,    41,    63,\n",
    "                    42,   377,   872,   639,   -17,   538,   631,   530,   693,\n",
    "                    743,  3456,  6345,  5868,  4543,  3087,  1691,   830,   241,\n",
    "                    -350,  -567,  -996,  -877, -1771, -1659, -1968, -2013, -2290,\n",
    "                    -2143, -1715, -1526, -1108,  -500,   333,    25,  -388,  -368,\n",
    "                    -435,  -817,  -858,  -793, -1089,   -16,  -430,  -529,  -252,\n",
    "                    -3,  -786,   -47,  -266,  -963,  -365], dtype=np.int16)\n",
    "t_peak = a_spike.argmax()\n",
    "t_trough = a_spike.argmin()\n",
    "plt.plot(a_spike)\n",
    "plt.plot(np.gradient(a_spike))"
   ]
  },
  {
   "cell_type": "code",
   "execution_count": null,
   "id": "2ff4884a-827f-4026-b113-f4d801e0451a",
   "metadata": {},
   "outputs": [],
   "source": [
    "smoothed = qst.fftresample(a_spike.reshape((1, a_spike.size)), a_spike.size * 3)[0]\n",
    "plt.plot(smoothed)\n",
    "plt.plot(np.gradient(smoothed))\n",
    "\n",
    "print(t_peak, t_trough)"
   ]
  },
  {
   "cell_type": "code",
   "execution_count": null,
   "id": "d366a320-ffdb-4ef5-91cb-d122b1fd5424",
   "metadata": {},
   "outputs": [],
   "source": [
    "def rle(arr: np.ndarray) -> Tuple[np.ndarray, np.ndarray, np.ndarray]:\n",
    "    \"\"\" run length encoding. Partial credit to R rle function.\n",
    "    Multi datatype arrays catered for including non Numpy\n",
    "    returns: tuple (runlengths, startpositions, values)\n",
    "\n",
    "    from stackoverflow 1066758\n",
    "\n",
    "    \"\"\"\n",
    "    n = len(arr)\n",
    "    if n == 0:\n",
    "        return (None, None, None)\n",
    "    else:\n",
    "        y = np.array(arr[1:] != arr[:-1])     # pairwise unequal (string safe)\n",
    "        i = np.append(np.where(y), n - 1)     # must include last element posi\n",
    "        z = np.diff(np.append(-1, i))         # run lengths\n",
    "        p = np.cumsum(np.append(0, z))[:-1]   # positions\n",
    "        return(z, p, arr[i])\n",
    "\n",
    "\n",
    "def find_onset(spk, dV_thresh=10.0, n_baseline=100, min_rise=20):\n",
    "    \"\"\"Returns the onset offset of a spike, relative to the peak time.\n",
    "\n",
    "    *spk* must be a 1D vector containing all the points up to the peak of the\n",
    "    spike. At least the first 100 samples should be before the onset of the peak\n",
    "    in order to collect statistics on the gradient.\n",
    "\n",
    "    \"\"\"\n",
    "    # There are still some issues here for fast spikers, which may have ISIs\n",
    "    # shorter than the pre-peak window. The only real solution right now is to\n",
    "    # adjust the window accordingly.\n",
    "    dV = np.gradient(spk)\n",
    "    mdV = dV[:n_baseline].mean()\n",
    "    sdV = dV[:n_baseline].std()\n",
    "    thresh = mdV + dV_thresh * sdV\n",
    "    n, p, v = rle(dV > thresh)\n",
    "    pp = p[(n >= min_rise) & v]\n",
    "    ind = pp[-1]                # will raise IndexError if no hits\n",
    "    if ind < n_baseline:\n",
    "        raise IndexError(\"onset occurred in baseline - need more data\")\n",
    "    return spk.size - ind\n",
    "\n",
    "\n",
    "def find_trough(spk, min_rise=5):\n",
    "    \"\"\"Find the local minimum after a spike.\n",
    "\n",
    "    *spk* must be a 1D vector containing the points after the peak of the spike.\n",
    "     This function finds when the derivative becomes greater or equal to\n",
    "     zero for at least min_rise samples.\n",
    "\n",
    "    \"\"\"\n",
    "    dV = np.gradient(spk)\n",
    "    n, p, v = rle(dV >= 0)\n",
    "    pp = p[(n >= min_rise) & v]\n",
    "    return pp[0]                # will raise IndexError if no hits\n"
   ]
  },
  {
   "cell_type": "code",
   "execution_count": null,
   "id": "2ae410ce-80b8-4704-9816-d012e2087ebf",
   "metadata": {},
   "outputs": [],
   "source": [
    "n_baseline = 100\n",
    "dV_thresh = 10.0\n",
    "peak_time = 200\n",
    "spks = qs.peaks(b_recording.astype('d'), [7635, 8412, 33778], peak_time, 100)\n",
    "for spk in spks:\n",
    "    plt.plot(spk)\n",
    "    spk_on = find_onset(spk[:peak_time], n_baseline=50)\n",
    "    print(peak_time-spk_on)\n",
    "    plt.plot(peak_time-spk_on, spk[peak_time-spk_on], 'ro')"
   ]
  },
  {
   "cell_type": "code",
   "execution_count": null,
   "id": "295b2f4e-b4ea-44fd-a14b-93ee4e5fd837",
   "metadata": {},
   "outputs": [],
   "source": [
    "#np.save(\"../intra_spike_narrow.npy\", c_recording)\n",
    "#print(c_times)"
   ]
  },
  {
   "cell_type": "code",
   "execution_count": null,
   "id": "854fbd3b-721a-4670-aa02-3b6c7d15955a",
   "metadata": {},
   "outputs": [],
   "source": [
    "spikes = qs.peaks(c_recording.astype(\"d\"), c_times, 200, 700)\n",
    "det = qs.detector(-20, 100)\n",
    "for spike in spikes:\n",
    "    t = det.send(spike)\n",
    "    print(t)\n",
    "    plt.plot(spike)"
   ]
  },
  {
   "cell_type": "code",
   "execution_count": null,
   "id": "6d5b27e6-496d-4f71-9ae5-8cd788430104",
   "metadata": {},
   "outputs": [],
   "source": [
    "n_baseline = 100\n",
    "dV_thresh = 10.0\n",
    "peak_time = 200\n",
    "spks = qs.peaks(c_recording.astype('d'), c_times[:2], peak_time, 100)\n",
    "for spk in spks:\n",
    "    plt.plot(spk)\n",
    "    spk_on = find_onset(spk[:peak_time], n_baseline=n_baseline, min_rise=13)\n",
    "    print(peak_time-spk_on)\n",
    "    plt.plot(peak_time-spk_on, spk[peak_time-spk_on], 'ro')"
   ]
  },
  {
   "cell_type": "code",
   "execution_count": null,
   "id": "7359480d-29da-4599-a815-d32845d2a575",
   "metadata": {},
   "outputs": [],
   "source": [
    "dV = np.gradient(spk)\n",
    "mdV = dV[:n_baseline].mean()\n",
    "sdV = dV[:n_baseline].std()\n",
    "thresh = mdV + dV_thresh * sdV\n",
    "plt.plot(dV)\n",
    "print(thresh)"
   ]
  },
  {
   "cell_type": "code",
   "execution_count": null,
   "id": "5be871e4-d4c2-4537-a5b4-a97c07d849e0",
   "metadata": {},
   "outputs": [],
   "source": [
    "rle(dV > thresh)"
   ]
  },
  {
   "cell_type": "code",
   "execution_count": null,
   "id": "787b00f5-6fb8-4328-90c4-b7d829b277ae",
   "metadata": {},
   "outputs": [],
   "source": [
    "from collections import namedtuple\n",
    "help(namedtuple)"
   ]
  },
  {
   "cell_type": "code",
   "execution_count": null,
   "id": "9cff199d-654d-4f29-949c-8f469f4e40b2",
   "metadata": {},
   "outputs": [],
   "source": [
    "def first_index(fn, seq):\n",
    "    \"\"\" Returns the index of the first value in seq where fn(x) is True\"\"\"\n",
    "    return next((i for (i, x) in enumerate(seq) if fn(x)), None)\n"
   ]
  },
  {
   "cell_type": "code",
   "execution_count": null,
   "id": "1769ab4f-1080-4fd7-9cab-5678c4f3c61b",
   "metadata": {
    "tags": []
   },
   "outputs": [],
   "source": [
    "b_recording = np.load(\"../intra_spike.npy\")\n",
    "b_times = [7635, 8412, 9363, 10424, 11447, 12661, 13887, 15079, 16373,\n",
    "           17753, 19168, 20682, 22357, 23979, 25574, 27209, 28989,\n",
    "           30508, 32088, 33778]\n",
    "spks = qs.peaks(b_recording.astype('d'), b_times, 200, 400)\n",
    "plt.plot(spks.T);"
   ]
  },
  {
   "cell_type": "code",
   "execution_count": null,
   "id": "38e7d396-2952-4dcd-832c-d09699ddf0c4",
   "metadata": {},
   "outputs": [],
   "source": [
    "times, aligned = qs.realign_spikes(b_times, spks, 3, 4)\n",
    "plt.plot(aligned.T);"
   ]
  },
  {
   "cell_type": "code",
   "execution_count": null,
   "id": "24ec5493-7ca2-4971-bedb-a148d1325a82",
   "metadata": {},
   "outputs": [],
   "source": [
    "fig, axes = plt.subplots(2)\n",
    "axes[0].plot(b_recording)\n",
    "from quickspikes.intracellular import SpikeFinder\n",
    "detector = qsi.SpikeFinder(50, 350, 5000)\n",
    "res = detector.calculate_threshold(b_recording)\n",
    "print(res)\n",
    "for time, spike in detector.extract_spikes(b_recording, 10):\n",
    "    axes[1].plot(spike)\n",
    "    axes[0].plot(time, b_recording[time], \"ro\")\n",
    "axes[0].set_xlim(7000,9000)\n",
    "#times = [time for time, spike in detector.extract_spikes(b_recording, 10)]"
   ]
  }
 ],
 "metadata": {
  "kernelspec": {
   "display_name": "Python 3 (ipykernel)",
   "language": "python",
   "name": "python3"
  },
  "language_info": {
   "codemirror_mode": {
    "name": "ipython",
    "version": 3
   },
   "file_extension": ".py",
   "mimetype": "text/x-python",
   "name": "python",
   "nbconvert_exporter": "python",
   "pygments_lexer": "ipython3",
   "version": "3.9.2"
  }
 },
 "nbformat": 4,
 "nbformat_minor": 5
}
