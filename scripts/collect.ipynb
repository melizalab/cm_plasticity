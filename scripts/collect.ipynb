{
 "cells": [
  {
   "cell_type": "code",
   "execution_count": null,
   "id": "341419a0-94ee-4f6a-9097-12bc79e6cdea",
   "metadata": {},
   "outputs": [],
   "source": [
    "import json\n",
    "import pandas as pd\n",
    "import numpy as np\n",
    "import matplotlib.pyplot as plt\n",
    "from pathlib import Path\n",
    "import graphics as g"
   ]
  },
  {
   "cell_type": "code",
   "execution_count": null,
   "id": "c7573fbe-834b-4070-a1fb-7fbb2bf32341",
   "metadata": {},
   "outputs": [],
   "source": [
    "cell = \"545244b7\"\n",
    "epoch_idx = [2]\n",
    "epochs = []\n",
    "for e in epoch_idx:\n",
    "    with open(f\"../temp/{cell}_{e:02}.pprox\", \"rt\") as fp:\n",
    "        epochs.append(json.load(fp))\n",
    "epoch = epochs[0]"
   ]
  },
  {
   "cell_type": "code",
   "execution_count": null,
   "id": "805ced10-feb8-4588-8a0c-b153247588bd",
   "metadata": {},
   "outputs": [],
   "source": [
    "epoch[\"pprox\"][1]"
   ]
  },
  {
   "cell_type": "code",
   "execution_count": null,
   "id": "5a63f1ec-8071-4446-ad51-754d730eeadc",
   "metadata": {},
   "outputs": [],
   "source": [
    "fig, axes = plt.subplots(1, sharex=True, figsize=(4,2))\n",
    "for sweep_idx, pproc in enumerate(epoch[\"pprox\"]):\n",
    "    axes.plot(pproc[\"events\"], [sweep_idx] * len(pproc[\"events\"]), '|')\n",
    "axes.text(0, 0, \"x\", fontsize=7, ha=\"right\")\n",
    "g.add_scalebar(axes)"
   ]
  },
  {
   "cell_type": "code",
   "execution_count": null,
   "id": "f9680a1e-a671-4489-827f-7a5559ebb973",
   "metadata": {},
   "outputs": [],
   "source": [
    "sweeps = (pd.json_normalize(epochs, \"pprox\", [\"cell\", \"epoch\", \"timestamp\", \"bird\", \"sire\", [\"stats\", \"tau\"], [\"stats\", \"Cm\"]])\n",
    "          .rename(columns={\"index\": \"sweep\", \"stats.tau\": \"tau\", \"stats.Cm\": \"Cm\"})\n",
    "          .set_index([\"cell\", \"epoch\", \"sweep\"])\n",
    "          .drop(columns=[\"offset\", \"interval\"])\n",
    "         )\n",
    "sweeps.iloc[-1]"
   ]
  },
  {
   "cell_type": "code",
   "execution_count": null,
   "id": "eba5b55e-53b1-49ae-b609-5dfb32b1783f",
   "metadata": {},
   "outputs": [],
   "source": [
    "sweeps.iloc[-1].events"
   ]
  },
  {
   "cell_type": "code",
   "execution_count": null,
   "id": "c6588d6f-12f3-4eb5-8251-87c9189e86df",
   "metadata": {},
   "outputs": [],
   "source": [
    "cells = sweeps.reset_index()[[\"cell\",\"bird\", \"sire\"]].drop_duplicates().set_index(\"cell\")"
   ]
  },
  {
   "cell_type": "code",
   "execution_count": null,
   "id": "cc07f76a-7dde-4c63-86d9-6993eedb5a45",
   "metadata": {},
   "outputs": [],
   "source": [
    "epochs = (\n",
    "        sweeps.reset_index()[[\"cell\",\"epoch\",\"timestamp\",\"tau\",\"Cm\"]]\n",
    "        .drop_duplicates()\n",
    "        .set_index([\"cell\", \"epoch\"])\n",
    ")\n",
    "ts = epochs.pop(\"timestamp\").apply(pd.Timestamp)\n",
    "epochs[\"time\"] = ts.groupby([\"cell\"], group_keys=False).apply(lambda x: (x - x.iloc[0])).apply(lambda x: x.total_seconds())"
   ]
  },
  {
   "cell_type": "code",
   "execution_count": null,
   "id": "cc5d61d8-3741-45d4-8066-6ebd5a8b8c9f",
   "metadata": {},
   "outputs": [],
   "source": [
    "sweep = sweeps.iloc[0]\n",
    "def sweep_iv_stats(sweep):\n",
    "    nsteps = len(sweep[\"steps.I\"])\n",
    "    return pd.Series(\n",
    "        np.concatenate([sweep[\"steps.I\"], sweep[\"steps.V\"]]),\n",
    "        index=pd.MultiIndex.from_product([[\"current\", \"voltage\"], range(nsteps)], names=[\"value\", \"step\"])\n",
    "    )#.swaplevel().sort_index()\n",
    "iv_stats = sweeps.apply(sweep_iv_stats, axis=1)\n",
    "dev = (iv_stats.voltage - iv_stats.voltage.median()).abs()\n",
    "v_dev = dev / dev.median()\n",
    "bad_sweeps = (v_dev[[0,2,3,4]] > 10).any(axis=1)\n",
    "iv_stats = iv_stats.loc[~bad_sweeps].stack(\"step\")"
   ]
  },
  {
   "cell_type": "code",
   "execution_count": null,
   "id": "a258da0f-aa59-4395-87b3-c63da4342059",
   "metadata": {},
   "outputs": [],
   "source": [
    "iv_stats"
   ]
  },
  {
   "cell_type": "code",
   "execution_count": null,
   "id": "d15a2454-1489-4fbf-86ae-7031745ef8af",
   "metadata": {},
   "outputs": [],
   "source": [
    "v_dev"
   ]
  },
  {
   "cell_type": "code",
   "execution_count": null,
   "id": "dfbcbbf1-7cd0-457b-bc53-1c5cfc221c23",
   "metadata": {},
   "outputs": [],
   "source": [
    "plt.plot(iv_stats.current, iv_stats.voltage, \"ro\")\n",
    "iv_stats"
   ]
  },
  {
   "cell_type": "code",
   "execution_count": null,
   "id": "26d7c6aa-1d8b-47cf-96a7-ab487e420b49",
   "metadata": {},
   "outputs": [],
   "source": [
    "def sweep_firing_stats(sweep):\n",
    "    try:\n",
    "        step = pd.Interval(*sweep[\"stimulus.interval\"])\n",
    "        spikes = [e for e in sweep.events if e in step]\n",
    "        rate = len(spikes) / step.length\n",
    "        if len(spikes) == 0:\n",
    "            duration = np.nan\n",
    "        elif len(spikes) == 1:\n",
    "            duration = (\n",
    "                sweep[\"first_spike.width\"] + sweep[\"first_spike.trough_t\"]\n",
    "            ) / 1000.0\n",
    "        else:\n",
    "            duration = spikes[-1] - spikes[0]\n",
    "    except TypeError:\n",
    "        rate = duration = np.nan\n",
    "    return pd.Series(\n",
    "        {\n",
    "            \"current\": sweep[\"stimulus.I\"],\n",
    "            \"firing_rate\": rate,\n",
    "            \"firing_duration\": duration,\n",
    "            \"Rs\": sweep.Rs,\n",
    "            \"Rm\": sweep.Rm,\n",
    "            \"Vm\": sweep.Vm,\n",
    "            \"temperature\": sweep.temperature,\n",
    "        }\n",
    "    )\n",
    "\n",
    "sweep_stats = sweeps.apply(sweep_firing_stats, axis=1)"
   ]
  },
  {
   "cell_type": "code",
   "execution_count": null,
   "id": "71e5ac0f-6815-4bec-b4e2-8f87131a32c3",
   "metadata": {},
   "outputs": [],
   "source": [
    "sweep_stats"
   ]
  },
  {
   "cell_type": "code",
   "execution_count": null,
   "id": "7afda379-b808-4f06-9e2e-b1ad4ae95187",
   "metadata": {},
   "outputs": [],
   "source": [
    "def epoch_stats(sweeps):\n",
    "    # sweeps with spikes\n",
    "    idx, = (sweep_stats.firing_rate > 0).to_numpy().nonzero()\n",
    "    df = sweep_stats.iloc[idx[0]-1:]\n",
    "    I_0 = (df.current[1] + df.current[0]) / 2\n",
    "    slope = np.mean(np.diff(df.firing_rate) / np.diff(df.current))\n",
    "    return pd.Series([\n",
    "    sweeps.firing_duration.max(),\n",
    "    sweeps.firing_duration.mean(),\n",
    "    sweeps.firing_rate.max(),\n",
    "        I_0,\n",
    "        slope,\n",
    "    sweeps.Rs.mean(),\n",
    "    sweeps.Rm.mean(),\n",
    "    sweeps.temperature.mean(),\n",
    "    ], index=[\"duration_max\", \"duration_mean\", \"rate_max\", \"rheobase\", \"fI_slope\", \"Rs\", \"Rm\", \"T\"])\n",
    "epoch_stats(sweep_stats)"
   ]
  },
  {
   "cell_type": "code",
   "execution_count": null,
   "id": "64b6cbbb-b53f-45f2-92aa-45afe25c238d",
   "metadata": {},
   "outputs": [],
   "source": [
    "estats = pd.read_csv(\"../build/epoch_stats.csv\", index_col=[\"cell\", \"epoch\"])\n",
    "estats"
   ]
  },
  {
   "cell_type": "code",
   "execution_count": null,
   "id": "e727b51d-ce95-46a1-9b4c-16f2341884a6",
   "metadata": {},
   "outputs": [],
   "source": []
  }
 ],
 "metadata": {
  "kernelspec": {
   "display_name": "Python 3 (ipykernel)",
   "language": "python",
   "name": "python3"
  },
  "language_info": {
   "codemirror_mode": {
    "name": "ipython",
    "version": 3
   },
   "file_extension": ".py",
   "mimetype": "text/x-python",
   "name": "python",
   "nbconvert_exporter": "python",
   "pygments_lexer": "ipython3",
   "version": "3.9.2"
  }
 },
 "nbformat": 4,
 "nbformat_minor": 5
}
