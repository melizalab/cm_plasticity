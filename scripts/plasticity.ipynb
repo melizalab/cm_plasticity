{
 "cells": [
  {
   "cell_type": "code",
   "execution_count": null,
   "id": "e6325f03-f775-4615-97cf-980ad331d8cb",
   "metadata": {},
   "outputs": [],
   "source": [
    "import json\n",
    "import pandas as pd\n",
    "import numpy as np\n",
    "import matplotlib.pyplot as plt\n",
    "from pathlib import Path\n",
    "from core import junction_potential\n",
    "from graphics import simple_axes, adjust_raster_ticks, add_scalebar, hide_axes, offset_traces"
   ]
  },
  {
   "cell_type": "code",
   "execution_count": null,
   "id": "9f17085a-39f6-42b7-8486-150ef96cca82",
   "metadata": {},
   "outputs": [],
   "source": [
    "def load_abf(pprox):\n",
    "    \"\"\"Reads the ABF file associated with an epoch \"\"\"\n",
    "    import nbank as nb\n",
    "    from neo.io import AxonIO\n",
    "    registry_url, resource_id = nb.parse_resource_id(pprox[\"source\"])\n",
    "    resource_path = nb.get(resource_id, registry_url, local_only=True)\n",
    "    abf_path = (Path(resource_path) / pprox[\"abf_file\"]).with_suffix(\".abf\")\n",
    "    ifp = AxonIO(abf_path)\n",
    "    return ifp.read_block(lazy=True)\n"
   ]
  },
  {
   "cell_type": "code",
   "execution_count": null,
   "id": "07e250cf-9b78-4369-b21c-d6b48e1c0cc8",
   "metadata": {},
   "outputs": [],
   "source": [
    "base = Path(\"../build\")\n",
    "iv_stats = pd.read_csv(base / \"iv_stats.csv\", index_col=[\"cell\", \"epoch\", \"sweep\"])\n",
    "sweep_stats = pd.read_csv(base / \"sweep_stats.csv\", index_col=[\"cell\", \"epoch\", \"sweep\"])\n",
    "epoch_stats = pd.read_csv(base / \"epoch_stats.csv\", index_col=[\"cell\", \"epoch\"])"
   ]
  },
  {
   "cell_type": "code",
   "execution_count": null,
   "id": "e896f370-3c53-486f-baf7-fe716f9bee98",
   "metadata": {},
   "outputs": [],
   "source": [
    "# phasic stable\n",
    "cell = \"328b1402\"\n",
    "epoch_idx = [3, 4, 5, 6, 7]\n",
    "sweep_idx = [10, 14, 17]"
   ]
  },
  {
   "cell_type": "code",
   "execution_count": null,
   "id": "f919b2b9-cabf-429e-b1c5-ab7b3ded5fc2",
   "metadata": {},
   "outputs": [],
   "source": [
    "# tonic plastic\n",
    "cell = \"2d21b861\"\n",
    "epoch_idx = [3, 4, 5, 6, 7, 8]\n",
    "sweep_idx = [10, 14, 17]"
   ]
  },
  {
   "cell_type": "code",
   "execution_count": null,
   "id": "42c717e6-a805-4609-a52e-9bea33735ba3",
   "metadata": {},
   "outputs": [],
   "source": [
    "# tonic stable - PR\n",
    "cell = \"8486a193\"\n",
    "epoch_idx = [2, 3, 4, 5, 6, 7]\n",
    "sweep_idx = [10, 14, 18]"
   ]
  },
  {
   "cell_type": "code",
   "execution_count": null,
   "id": "0e5ad840-9907-4cd5-9dcb-c2b97ba524db",
   "metadata": {},
   "outputs": [],
   "source": [
    "# tonic stable - PR\n",
    "cell = \"0e40048d\"\n",
    "epoch_idx = [13, 14, 15, 17, 18, 19, 20]\n",
    "sweep_idx = [10, 14, 18]"
   ]
  },
  {
   "cell_type": "code",
   "execution_count": null,
   "id": "9c77332f-bcaf-421c-8438-e2f6017adee0",
   "metadata": {},
   "outputs": [],
   "source": [
    "# tonic stable - PR\n",
    "cell = \"92a8d1ec\"\n",
    "epoch_idx = [2, 3, 5]\n",
    "sweep_idx = [10, 14, 18]"
   ]
  },
  {
   "cell_type": "code",
   "execution_count": null,
   "id": "04080f31-4f89-4eb8-9f71-ed26a543f5eb",
   "metadata": {},
   "outputs": [],
   "source": [
    "epochs = epoch_stats.loc[cell].loc[epoch_idx]\n",
    "sweeps = sweep_stats.loc[cell].loc[epoch_idx]\n",
    "steps = iv_stats.loc[cell].loc[epoch_idx]"
   ]
  },
  {
   "cell_type": "code",
   "execution_count": null,
   "id": "f7c40593-31ea-450a-b4f7-d2c5103d5376",
   "metadata": {},
   "outputs": [],
   "source": [
    "bin_size = 10\n",
    "floor = np.floor(steps.current.min() / bin_size) * bin_size\n",
    "ceil  = np.ceil(steps.current.max() / bin_size) * bin_size\n",
    "bins = np.arange(floor, ceil + bin_size, bin_size)\n",
    "steps_binned = steps.groupby([\"epoch\", pd.cut(steps.current, bins, labels=False)]).mean()"
   ]
  },
  {
   "cell_type": "code",
   "execution_count": null,
   "id": "3b3b8276-2a2b-4a76-99c3-107e00af3922",
   "metadata": {},
   "outputs": [],
   "source": [
    "fig = plt.figure(figsize=(7.5, 5))\n",
    "subfigs = fig.subfigures(1, 3, wspace=0.02)\n",
    "\n",
    "axes = subfigs[1].subplots(2, sharex=True)\n",
    "for enumber, epoch in steps_binned.groupby(\"epoch\"):\n",
    "    axes[0].plot(epoch.current, epoch.voltage, label=\"%d s\" % int(epochs.loc[enumber].time))\n",
    "axes[0].set_ylabel(\"V (mV)\")\n",
    "for enumber, epoch in sweeps.groupby(\"epoch\"):\n",
    "    axes[1].plot(epoch.current, epoch.firing_rate, label=\"%d s\" % int(epochs.loc[enumber].time))\n",
    "axes[1].set_ylabel(\"Freq (Hz)\")\n",
    "axes[1].set_xlabel(\"Current (pA)\")\n",
    "axes[1].legend()\n",
    "simple_axes(*axes)\n",
    "subfigs[1].align_ylabels(axes)\n",
    "\n",
    "marker_style = {\"marker\": 'o', \"linestyle\": 'none', \"fillstyle\": \"none\"}\n",
    "axes = subfigs[2].subplots(5, sharex=True, height_ratios=(2, 2, 2, 1, 1))\n",
    "axes[0].errorbar(epochs.time, epochs.duration_mean, epochs.duration_sd / np.sqrt(epochs.n_spike_sweeps), **marker_style)\n",
    "axes[0].set_ylim(0, 2.0)\n",
    "axes[0].set_ylabel(\"Duration (s)\")\n",
    "axes[1].plot(epochs.time, epochs.slope, **marker_style)\n",
    "axes[1].set_ylim(0, epochs.slope.max() * 1.1)\n",
    "axes[1].set_ylabel(\"f-I slope (Hz/pA)\")\n",
    "axes[2].plot(epochs.time, epochs.rheobase, **marker_style)\n",
    "axes[2].set_ylim(0, epochs.rheobase.max() * 1.1)\n",
    "axes[2].set_ylabel(\"rheobase (pA)\")\n",
    "axes[3].errorbar(epochs.time, epochs.Vm, epochs.Vm_sd / np.sqrt(epochs.n_sweeps), **marker_style)\n",
    "axes[3].set_ylim(epochs.Vm.mean() - 10, epochs.Vm.mean() + 10)\n",
    "axes[3].set_ylabel(\"Vm (mV)\")                  \n",
    "axes[4].errorbar(epochs.time, epochs.Rm, epochs.Rm_sd / np.sqrt(epochs.n_sweeps), **marker_style)\n",
    "Rmm = epochs.Rm.mean()\n",
    "axes[4].set_ylim(Rmm * 0.7, Rmm * 1.3)\n",
    "axes[4].set_ylabel(\"Rm (MΩ)\")\n",
    "axes[4].set_xlabel(\"Time (s)\")\n",
    "simple_axes(*axes)\n",
    "#subfigs[2].subplots_adjust(hspace=0.08)\n",
    "subfigs[2].align_ylabels(axes)\n",
    "\n",
    "axes = subfigs[0].subplots(6, sharex=True, height_ratios=(2, 3, 0.5, 2, 3, 0.5))\n",
    "aidx = 0\n",
    "for eidx in [epoch_idx[0], epoch_idx[-1]]:\n",
    "    s_ax = axes[aidx + 0]\n",
    "    v_ax = axes[aidx + 1]\n",
    "    i_ax = axes[aidx + 2]\n",
    "    pprox = base / \"{}_{:02}.pprox\".format(cell, eidx)\n",
    "    with open(pprox, \"rt\") as fp:\n",
    "        epoch = json.load(fp)\n",
    "    for idx, pproc in enumerate(epoch[\"pprox\"]):\n",
    "        s_ax.plot(pproc[\"events\"], [idx] * len(pproc[\"events\"]), '|')\n",
    "    adjust_raster_ticks(s_ax, gap=2)\n",
    "\n",
    "    block = load_abf(epoch)\n",
    "    for sidx in sweep_idx:\n",
    "        segment = block.segments[sidx]\n",
    "        V = (\n",
    "            (segment.analogsignals[0].load() - junction_potential)\n",
    "            .rescale(\"mV\")\n",
    "        )\n",
    "        I = (\n",
    "            segment.analogsignals[1]\n",
    "            .load()\n",
    "            .rescale(\"pA\")\n",
    "        )\n",
    "        color = s_ax.lines[sidx].get_color()\n",
    "        t = V.times - V.t_start\n",
    "        v_ax.plot(t, V.magnitude, color=color)\n",
    "        i_ax.plot(t, I, color=color)\n",
    "    offset_traces(v_ax)\n",
    "    aidx += 3\n",
    "hide_axes(axes[0], axes[3])\n",
    "simple_axes(axes[1], axes[2], axes[4], axes[5])\n",
    "axes[0].set_xlim(0.1, 2.3);"
   ]
  },
  {
   "cell_type": "code",
   "execution_count": null,
   "id": "db4ebd48-248c-4c2f-8ba3-614f132f1771",
   "metadata": {},
   "outputs": [],
   "source": [
    "fig.savefig(f\"../figures/{cell}_plasticity.pdf\")"
   ]
  },
  {
   "cell_type": "code",
   "execution_count": null,
   "id": "39d80da3-48f8-4ac9-a553-3b0db00785c6",
   "metadata": {},
   "outputs": [],
   "source": [
    "epochs"
   ]
  },
  {
   "cell_type": "code",
   "execution_count": null,
   "id": "9237d7da-2506-463b-ad71-c6439084f4e0",
   "metadata": {},
   "outputs": [],
   "source": []
  }
 ],
 "metadata": {
  "kernelspec": {
   "display_name": "Python 3 (ipykernel)",
   "language": "python",
   "name": "python3"
  },
  "language_info": {
   "codemirror_mode": {
    "name": "ipython",
    "version": 3
   },
   "file_extension": ".py",
   "mimetype": "text/x-python",
   "name": "python",
   "nbconvert_exporter": "python",
   "pygments_lexer": "ipython3",
   "version": "3.9.2"
  }
 },
 "nbformat": 4,
 "nbformat_minor": 5
}
