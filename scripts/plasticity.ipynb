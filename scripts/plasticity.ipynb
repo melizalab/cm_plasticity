{
 "cells": [
  {
   "cell_type": "code",
   "execution_count": null,
   "id": "e6325f03-f775-4615-97cf-980ad331d8cb",
   "metadata": {},
   "outputs": [],
   "source": [
    "import json\n",
    "import pandas as pd\n",
    "import numpy as np\n",
    "import matplotlib.pyplot as plt\n",
    "from pathlib import Path\n",
    "from graphics import simple_axes, adjust_raster_ticks, add_scalebar, hide_axes"
   ]
  },
  {
   "cell_type": "code",
   "execution_count": null,
   "id": "07e250cf-9b78-4369-b21c-d6b48e1c0cc8",
   "metadata": {},
   "outputs": [],
   "source": [
    "base = Path(\"../build\")\n",
    "iv_stats = pd.read_csv(base / \"iv_stats.csv\", index_col=[\"cell\", \"epoch\", \"sweep\"])\n",
    "sweep_stats = pd.read_csv(base / \"sweep_stats.csv\", index_col=[\"cell\", \"epoch\", \"sweep\"])\n",
    "epoch_stats = pd.read_csv(base / \"epoch_stats.csv\", index_col=[\"cell\", \"epoch\"])"
   ]
  },
  {
   "cell_type": "code",
   "execution_count": null,
   "id": "d428b5e7-1098-4a7d-b50f-2fd3bef6876c",
   "metadata": {},
   "outputs": [],
   "source": [
    "cell = \"2d21b861\"\n",
    "epoch_idx = [3, 4, 5, 7, 8]\n",
    "epochs = epoch_stats.loc[cell].loc[epoch_idx]\n",
    "sweeps = sweep_stats.loc[cell].loc[epoch_idx]\n",
    "steps = iv_stats.loc[cell].loc[epoch_idx]"
   ]
  },
  {
   "cell_type": "code",
   "execution_count": null,
   "id": "f7c40593-31ea-450a-b4f7-d2c5103d5376",
   "metadata": {},
   "outputs": [],
   "source": [
    "bin_size = 10\n",
    "floor = np.floor(steps.current.min() / bin_size) * bin_size\n",
    "ceil  = np.ceil(steps.current.max() / bin_size) * bin_size\n",
    "bins = np.arange(floor, ceil + bin_size, bin_size)\n",
    "steps_binned = steps.groupby([\"epoch\", pd.cut(steps.current, bins, labels=False)]).mean()"
   ]
  },
  {
   "cell_type": "code",
   "execution_count": null,
   "id": "3b3b8276-2a2b-4a76-99c3-107e00af3922",
   "metadata": {},
   "outputs": [],
   "source": [
    "fig = plt.figure(figsize=(5, 5))\n",
    "subfigs = fig.subfigures(1, 2, wspace=0.02)\n",
    "axes = subfigs[0].subplots(2, sharex=True)\n",
    "for enumber, epoch in steps_binned.groupby(\"epoch\"):\n",
    "    axes[0].plot(epoch.current, epoch.voltage, label=\"%d s\" % int(epochs.loc[enumber].time))\n",
    "axes[0].set_ylabel(\"V (mV)\")\n",
    "for enumber, epoch in sweeps.groupby(\"epoch\"):\n",
    "    axes[1].plot(epoch.current, epoch.firing_rate, label=\"%d s\" % int(epochs.loc[enumber].time))\n",
    "axes[1].set_ylabel(\"Freq (Hz)\")\n",
    "axes[1].set_xlabel(\"Current (pA)\")\n",
    "axes[1].legend()\n",
    "simple_axes(*axes)\n",
    "subfigs[0].align_ylabels(axes)\n",
    "\n",
    "marker_style = {\"marker\": 'o', \"linestyle\": 'none', \"fillstyle\": \"none\"}\n",
    "axes = subfigs[1].subplots(5, sharex=True, height_ratios=(2, 2, 2, 1, 1))\n",
    "axes[0].errorbar(epochs.time, epochs.duration_mean, epochs.duration_sd / np.sqrt(epochs.n_spike_sweeps), **marker_style)\n",
    "axes[0].set_ylim(0, 2.0)\n",
    "axes[0].set_ylabel(\"Duration (s)\")\n",
    "axes[1].plot(epochs.time, epochs.slope, **marker_style)\n",
    "axes[1].set_ylim(0, epochs.slope.max() * 1.1)\n",
    "axes[1].set_ylabel(\"f-I slope (Hz/pA)\")\n",
    "axes[2].plot(epochs.time, epochs.rheobase, **marker_style)\n",
    "axes[2].set_ylim(0, epochs.rheobase.max() * 1.1)\n",
    "axes[2].set_ylabel(\"rheobase (pA)\")\n",
    "axes[3].errorbar(epochs.time, epochs.Vm, epochs.Vm_sd / np.sqrt(epochs.n_sweeps), **marker_style)\n",
    "axes[3].set_ylim(epochs.Vm.mean() - 10, epochs.Vm.mean() + 10)\n",
    "axes[3].set_ylabel(\"Vm (mV)\")                  \n",
    "axes[4].errorbar(epochs.time, epochs.Rm, epochs.Rm_sd / np.sqrt(epochs.n_sweeps), **marker_style)\n",
    "Rmm = epochs.Rm.mean()\n",
    "axes[4].set_ylim(Rmm * 0.7, Rmm * 1.3)\n",
    "axes[4].set_ylabel(\"Rm (mΩ)\")\n",
    "axes[4].set_xlabel(\"Time (s)\")\n",
    "simple_axes(*axes)\n",
    "subfigs[1].subplots_adjust(hspace=0.08)\n",
    "subfigs[1].align_ylabels(axes)"
   ]
  },
  {
   "cell_type": "code",
   "execution_count": null,
   "id": "ca057c63-4e5c-4bf1-abdd-f9fabba5e70f",
   "metadata": {},
   "outputs": [],
   "source": [
    "fig, axes = plt.subplots(6, figsize=(2, 5), sharex=True, height_ratios=(3, 3, 1, 3, 3, 1))\n",
    "pprox = base / \"{}_{:02}.pprox\".format(cell, epoch_idx[0])\n",
    "with open(pprox, \"rt\") as fp:\n",
    "    epoch = json.load(fp)\n",
    "for sweep_idx, pproc in enumerate(epoch[\"pprox\"]):\n",
    "    axes[0].plot(pproc[\"events\"], [sweep_idx] * len(pproc[\"events\"]), '|')\n",
    "adjust_raster_ticks(axes[0], gap=2)\n",
    "\n",
    "pprox = base / \"{}_{:02}.pprox\".format(cell, epoch_idx[-1])\n",
    "with open(pprox, \"rt\") as fp:\n",
    "    epoch = json.load(fp)\n",
    "for sweep_idx, pproc in enumerate(epoch[\"pprox\"]):\n",
    "    axes[3].plot(pproc[\"events\"], [sweep_idx] * len(pproc[\"events\"]), '|')\n",
    "adjust_raster_ticks(axes[3], gap=2)\n",
    "hide_axes(*axes)"
   ]
  },
  {
   "cell_type": "code",
   "execution_count": null,
   "id": "046597e6-caf7-4328-8fc1-bbd3eb1a8951",
   "metadata": {},
   "outputs": [],
   "source": []
  }
 ],
 "metadata": {
  "kernelspec": {
   "display_name": "Python 3 (ipykernel)",
   "language": "python",
   "name": "python3"
  },
  "language_info": {
   "codemirror_mode": {
    "name": "ipython",
    "version": 3
   },
   "file_extension": ".py",
   "mimetype": "text/x-python",
   "name": "python",
   "nbconvert_exporter": "python",
   "pygments_lexer": "ipython3",
   "version": "3.9.2"
  }
 },
 "nbformat": 4,
 "nbformat_minor": 5
}
